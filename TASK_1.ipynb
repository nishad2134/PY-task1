{
 "cells": [
  {
   "cell_type": "markdown",
   "id": "551028d4-4442-4eb1-ac4d-3d8c2e28d11a",
   "metadata": {},
   "source": [
    "# 15 string function"
   ]
  },
  {
   "cell_type": "code",
   "execution_count": 6,
   "id": "0fd57d79-3f99-4b8c-9528-f301d84f4a1d",
   "metadata": {},
   "outputs": [],
   "source": [
    "text1 = \"My name is Nishad\""
   ]
  },
  {
   "cell_type": "code",
   "execution_count": 8,
   "id": "ce237a8b-c177-41c3-bdea-7f0f2e67479e",
   "metadata": {},
   "outputs": [
    {
     "name": "stdout",
     "output_type": "stream",
     "text": [
      "my name is nishad\n"
     ]
    }
   ],
   "source": [
    "print(text1.casefold())"
   ]
  },
  {
   "cell_type": "code",
   "execution_count": 10,
   "id": "7552a5db-f20c-4f77-bb3c-8b5ad4d73424",
   "metadata": {},
   "outputs": [],
   "source": [
    "text2 = \"arc technologies\"\n",
    "\n"
   ]
  },
  {
   "cell_type": "code",
   "execution_count": 14,
   "id": "aa8b30a4-fb35-4d1f-8c23-ce3c41618e10",
   "metadata": {},
   "outputs": [
    {
     "name": "stdout",
     "output_type": "stream",
     "text": [
      "Arc technologies\n"
     ]
    }
   ],
   "source": [
    "print(text2.capitalize()) "
   ]
  },
  {
   "cell_type": "code",
   "execution_count": 22,
   "id": "25148fab-9132-4fcd-9c15-36b9ce6cbfda",
   "metadata": {},
   "outputs": [],
   "source": [
    "text3 = \"peace\""
   ]
  },
  {
   "cell_type": "code",
   "execution_count": 28,
   "id": "abfcf67e-4a63-42c3-95c9-60ebb4851900",
   "metadata": {},
   "outputs": [
    {
     "name": "stdout",
     "output_type": "stream",
     "text": [
      "  peace   \n"
     ]
    }
   ],
   "source": [
    "print(text3.center(10)) "
   ]
  },
  {
   "cell_type": "code",
   "execution_count": 30,
   "id": "8ce4bccb-8075-49aa-9820-fdff14737af9",
   "metadata": {},
   "outputs": [],
   "source": [
    "text4 = \"hello world\""
   ]
  },
  {
   "cell_type": "code",
   "execution_count": 32,
   "id": "893de67b-02f6-41d9-8315-e47778e71a5a",
   "metadata": {},
   "outputs": [
    {
     "name": "stdout",
     "output_type": "stream",
     "text": [
      "2\n"
     ]
    }
   ],
   "source": [
    "print(text4.count(\"o\"))"
   ]
  },
  {
   "cell_type": "code",
   "execution_count": 34,
   "id": "40bdda04-1f95-4ac7-8b65-2920e937eb34",
   "metadata": {},
   "outputs": [],
   "source": [
    "text5 = \"hello\""
   ]
  },
  {
   "cell_type": "code",
   "execution_count": 36,
   "id": "20fd6c12-d74b-4902-897f-92a686cc9d5c",
   "metadata": {},
   "outputs": [
    {
     "name": "stdout",
     "output_type": "stream",
     "text": [
      "b'hello'\n"
     ]
    }
   ],
   "source": [
    "print(text5.encode())  "
   ]
  },
  {
   "cell_type": "code",
   "execution_count": 38,
   "id": "ed5ec35a-4da9-41a5-adf0-682f8cab8062",
   "metadata": {},
   "outputs": [],
   "source": [
    "text6 = \"hello world\""
   ]
  },
  {
   "cell_type": "code",
   "execution_count": 40,
   "id": "acc581e8-4379-478a-aec2-cbb1d6830f03",
   "metadata": {},
   "outputs": [
    {
     "name": "stdout",
     "output_type": "stream",
     "text": [
      "True\n"
     ]
    }
   ],
   "source": [
    "print(text6.endswith(\"world\"))"
   ]
  },
  {
   "cell_type": "code",
   "execution_count": 44,
   "id": "7614fea1-16b2-477c-9830-438657c2283f",
   "metadata": {},
   "outputs": [],
   "source": [
    "text7 = \"hello world\""
   ]
  },
  {
   "cell_type": "code",
   "execution_count": 48,
   "id": "228e261c-ae32-483d-9565-c23eb3f4c805",
   "metadata": {},
   "outputs": [
    {
     "name": "stdout",
     "output_type": "stream",
     "text": [
      "6\n"
     ]
    }
   ],
   "source": [
    "print(text7.find(\"world\"))"
   ]
  },
  {
   "cell_type": "code",
   "execution_count": 50,
   "id": "8419a548-d73b-4f85-8a7c-dd15d73d67d9",
   "metadata": {},
   "outputs": [],
   "source": [
    "text8 = \"Hello, {}!\""
   ]
  },
  {
   "cell_type": "code",
   "execution_count": 52,
   "id": "30a47668-6d52-44d5-a6d0-9534e5929956",
   "metadata": {},
   "outputs": [
    {
     "name": "stdout",
     "output_type": "stream",
     "text": [
      "Hello, Alice!\n"
     ]
    }
   ],
   "source": [
    "print(text8.format(\"Alice\"))"
   ]
  },
  {
   "cell_type": "code",
   "execution_count": 54,
   "id": "1225b0d0-1ee1-42f8-894a-fdba1d5b09dd",
   "metadata": {},
   "outputs": [],
   "source": [
    "text9 = \"hello123\""
   ]
  },
  {
   "cell_type": "code",
   "execution_count": 56,
   "id": "51dcb495-2707-4a0d-87b4-9d9ebf113372",
   "metadata": {},
   "outputs": [
    {
     "name": "stdout",
     "output_type": "stream",
     "text": [
      "True\n"
     ]
    }
   ],
   "source": [
    "print(text9.isalnum())"
   ]
  },
  {
   "cell_type": "code",
   "execution_count": 58,
   "id": "42fb2201-66b4-4e47-a9d7-f5532a955cb9",
   "metadata": {},
   "outputs": [],
   "source": [
    "text10 = \"hello world\""
   ]
  },
  {
   "cell_type": "code",
   "execution_count": 60,
   "id": "36a2b306-5f8f-4191-a629-36adc623d2bc",
   "metadata": {},
   "outputs": [
    {
     "name": "stdout",
     "output_type": "stream",
     "text": [
      "6\n"
     ]
    }
   ],
   "source": [
    "print(text10.index(\"world\"))"
   ]
  },
  {
   "cell_type": "code",
   "execution_count": 62,
   "id": "b5296ab8-b2a2-42d9-ad11-7b7543595ebc",
   "metadata": {},
   "outputs": [],
   "source": [
    "text11 = \"Tiger\""
   ]
  },
  {
   "cell_type": "code",
   "execution_count": 64,
   "id": "5c1b62cd-b9ad-4565-9cc6-6667048dde9c",
   "metadata": {},
   "outputs": [
    {
     "name": "stdout",
     "output_type": "stream",
     "text": [
      "True\n"
     ]
    }
   ],
   "source": [
    "print(text11.isalpha())"
   ]
  },
  {
   "cell_type": "code",
   "execution_count": 66,
   "id": "f30ff44d-2fd8-482d-9566-1ceea60f04a2",
   "metadata": {},
   "outputs": [],
   "source": [
    "text12 = \"123456789\""
   ]
  },
  {
   "cell_type": "code",
   "execution_count": 68,
   "id": "ae2b4af1-441b-4deb-90a8-bc18acf0f77b",
   "metadata": {},
   "outputs": [
    {
     "name": "stdout",
     "output_type": "stream",
     "text": [
      "True\n"
     ]
    }
   ],
   "source": [
    "print(text12.isdigit())"
   ]
  },
  {
   "cell_type": "code",
   "execution_count": 70,
   "id": "89825bd0-88b6-4e8a-bf42-4fc7edbb1fb1",
   "metadata": {},
   "outputs": [],
   "source": [
    "text13 = \"Nishad\""
   ]
  },
  {
   "cell_type": "code",
   "execution_count": 72,
   "id": "8cce3c82-a8bb-43e9-be66-60a30c3f9ba6",
   "metadata": {},
   "outputs": [
    {
     "name": "stdout",
     "output_type": "stream",
     "text": [
      "False\n"
     ]
    }
   ],
   "source": [
    "print(text13.islower())"
   ]
  },
  {
   "cell_type": "code",
   "execution_count": 74,
   "id": "fbeda621-62d1-43a7-87b1-624bd0f04e35",
   "metadata": {},
   "outputs": [],
   "source": [
    "text14 = \"     \""
   ]
  },
  {
   "cell_type": "code",
   "execution_count": 76,
   "id": "6781f75d-280e-48c5-8442-619ed72a71d9",
   "metadata": {},
   "outputs": [
    {
     "name": "stdout",
     "output_type": "stream",
     "text": [
      "True\n"
     ]
    }
   ],
   "source": [
    "print(text14.isspace())"
   ]
  },
  {
   "cell_type": "code",
   "execution_count": 78,
   "id": "61f19b3d-b914-4943-a0f9-d0bdd2a4d6ae",
   "metadata": {},
   "outputs": [],
   "source": [
    "words = [\"hello\",  \"world\"]"
   ]
  },
  {
   "cell_type": "code",
   "execution_count": null,
   "id": "599a9be5-f8e9-4d91-a3a7-8fd0c5b081d5",
   "metadata": {},
   "outputs": [],
   "source": []
  }
 ],
 "metadata": {
  "kernelspec": {
   "display_name": "Python 3 (ipykernel)",
   "language": "python",
   "name": "python3"
  },
  "language_info": {
   "codemirror_mode": {
    "name": "ipython",
    "version": 3
   },
   "file_extension": ".py",
   "mimetype": "text/x-python",
   "name": "python",
   "nbconvert_exporter": "python",
   "pygments_lexer": "ipython3",
   "version": "3.12.4"
  }
 },
 "nbformat": 4,
 "nbformat_minor": 5
}
